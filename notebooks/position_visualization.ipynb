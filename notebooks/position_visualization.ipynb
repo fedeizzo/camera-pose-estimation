{
 "cells": [
  {
   "cell_type": "code",
   "execution_count": 1,
   "id": "d7360705-4d10-4038-a478-fc7ae77e9133",
   "metadata": {},
   "outputs": [
    {
     "name": "stdout",
     "output_type": "stream",
     "text": [
      "\u001b[0m\u001b[01;34mborsa\u001b[0m  \u001b[01;34mborsa2\u001b[0m  \u001b[01;34mfuori_casa\u001b[0m  \u001b[01;34mtaratura\u001b[0m\n"
     ]
    }
   ],
   "source": [
    "!ls ../data"
   ]
  },
  {
   "cell_type": "markdown",
   "id": "97f807dc-30e9-49b1-8f7c-0569b1d89730",
   "metadata": {},
   "source": [
    "## Parameters Federico's camera\n",
    "1 SIMPLE_RADIAL 3840 2160 3573.15 1920 1080 0.0466929"
   ]
  },
  {
   "cell_type": "code",
   "execution_count": 18,
   "id": "1d433006-f410-4d51-ada7-a14c62493a60",
   "metadata": {},
   "outputs": [],
   "source": [
    "import numpy as np\n",
    "import collections\n",
    "import struct\n",
    "import transforms3d.quaternions as quat\n",
    "from pathlib import PosixPath\n",
    "\n",
    "%matplotlib inline\n",
    "import numpy as np\n",
    "import matplotlib.pyplot as plt"
   ]
  },
  {
   "cell_type": "code",
   "execution_count": 19,
   "id": "4f12795d-80a1-4de4-9b52-328d0728c2c6",
   "metadata": {},
   "outputs": [],
   "source": [
    "camera_file = PosixPath('../data/borsa/model/sparse/0/cameras.bin')\n",
    "image_file = PosixPath('../data/borsa/model/sparse/0/images.bin')\n",
    "points_file = PosixPath('../data/borsa/model/sparse/0/points3D.bin')"
   ]
  },
  {
   "cell_type": "code",
   "execution_count": 20,
   "id": "88b595c9-796f-4336-9ae3-a4db9f9a0882",
   "metadata": {},
   "outputs": [],
   "source": [
    "def read_next_bytes(fid, num_bytes, format_char_sequence, endian_character=\"<\"):\n",
    "    \"\"\"Read and unpack the next bytes from a binary file.\n",
    "    :param fid:\n",
    "    :param num_bytes: Sum of combination of {2, 4, 8}, e.g. 2, 6, 16, 30, etc.\n",
    "    :param format_char_sequence: List of {c, e, f, d, h, H, i, I, l, L, q, Q}.\n",
    "    :param endian_character: Any of {@, =, <, >, !}\n",
    "    :return: Tuple of read and unpacked values.\n",
    "    \"\"\"\n",
    "    data = fid.read(num_bytes)\n",
    "    return struct.unpack(endian_character + format_char_sequence, data)\n",
    "\n",
    "\n",
    "def read_images_binary(path_to_model_file):\n",
    "    \"\"\"\n",
    "    see: src/base/reconstruction.cc\n",
    "        void Reconstruction::ReadImagesBinary(const std::string& path)\n",
    "        void Reconstruction::WriteImagesBinary(const std::string& path)\n",
    "    \"\"\"\n",
    "    images = {}\n",
    "    with open(path_to_model_file, \"rb\") as fid:\n",
    "        num_reg_images = read_next_bytes(fid, 8, \"Q\")[0]\n",
    "        for _ in range(num_reg_images):\n",
    "            binary_image_properties = read_next_bytes(\n",
    "                fid, num_bytes=64, format_char_sequence=\"idddddddi\")\n",
    "            image_id = binary_image_properties[0]\n",
    "            qvec = np.array(binary_image_properties[1:5])\n",
    "            tvec = np.array(binary_image_properties[5:8])\n",
    "            camera_id = binary_image_properties[8]\n",
    "            image_name = \"\"\n",
    "            current_char = read_next_bytes(fid, 1, \"c\")[0]\n",
    "            while current_char != b\"\\x00\":   # look for the ASCII 0 entry\n",
    "                image_name += current_char.decode(\"utf-8\")\n",
    "                current_char = read_next_bytes(fid, 1, \"c\")[0]\n",
    "            num_points2D = read_next_bytes(fid, num_bytes=8,\n",
    "                                           format_char_sequence=\"Q\")[0]\n",
    "            x_y_id_s = read_next_bytes(fid, num_bytes=24*num_points2D,\n",
    "                                       format_char_sequence=\"ddq\"*num_points2D)\n",
    "            xys = np.column_stack([tuple(map(float, x_y_id_s[0::3])),\n",
    "                                   tuple(map(float, x_y_id_s[1::3]))])\n",
    "            point3D_ids = np.array(tuple(map(int, x_y_id_s[2::3])))\n",
    "            images[image_id] = Image(\n",
    "                id=image_id, qvec=qvec, tvec=tvec,\n",
    "                camera_id=camera_id, name=image_name,\n",
    "                xys=xys, point3D_ids=point3D_ids)\n",
    "    return images"
   ]
  },
  {
   "cell_type": "code",
   "execution_count": 21,
   "id": "a166349a-0407-4870-a5fd-8f6da18e911b",
   "metadata": {},
   "outputs": [],
   "source": [
    "images = list(read_images_binary(image_file).values())"
   ]
  },
  {
   "cell_type": "code",
   "execution_count": 22,
   "id": "5fbefadf-e46b-44e8-b25d-1abdd458f922",
   "metadata": {},
   "outputs": [],
   "source": [
    "images.sort(key=lambda x: int(x.name[3:-4]))\n",
    "names = list(map(lambda x: int(x.name[3:-4]), images))\n",
    "tvecs = np.array(list(map(lambda x: x.tvec, images)))\n",
    "qvecs = np.array(list(map(lambda x: x.qvec, images)))"
   ]
  },
  {
   "cell_type": "code",
   "execution_count": 23,
   "id": "6a7abee2-e109-4f87-a873-350bffdc7326",
   "metadata": {},
   "outputs": [],
   "source": [
    "xyz_positions = []\n",
    "\n",
    "for i in range(len(qvecs)):\n",
    "    R = quat.quat2mat(qvecs[i])\n",
    "    xyz_positions.append(np.dot(-(R.T), tvecs[i]))\n",
    "xyz_positions = np.array(xyz_positions, dtype=np.float32)"
   ]
  },
  {
   "cell_type": "code",
   "execution_count": 24,
   "id": "08892f10-252b-400f-83e9-b3c7ab6bf305",
   "metadata": {},
   "outputs": [
    {
     "data": {
      "text/plain": [
       "<matplotlib.collections.PathCollection at 0x7fe19791a9d0>"
      ]
     },
     "execution_count": 24,
     "metadata": {},
     "output_type": "execute_result"
    },
    {
     "data": {
      "image/png": "[encoded data removed]",
      "text/plain": [
       "<Figure size 1080x1080 with 1 Axes>"
      ]
     },
     "metadata": {
      "needs_background": "light"
     },
     "output_type": "display_data"
    }
   ],
   "source": [
    "fig = plt.figure(figsize=(15,15))\n",
    "ax = plt.axes()\n",
    "ax.scatter(xyz_positions[:,0], xyz_positions[:,1])"
   ]
  },
  {
   "cell_type": "code",
   "execution_count": null,
   "id": "126103ab-6c3b-4cca-8fd5-c88d12799ec4",
   "metadata": {},
   "outputs": [],
   "source": []
  }
 ],
 "metadata": {
  "kernelspec": {
   "display_name": "Python 3 (ipykernel)",
   "language": "python",
   "name": "python3"
  },
  "language_info": {
   "codemirror_mode": {
    "name": "ipython",
    "version": 3
   },
   "file_extension": ".py",
   "mimetype": "text/x-python",
   "name": "python",
   "nbconvert_exporter": "python",
   "pygments_lexer": "ipython3",
   "version": "3.9.4"
  }
 },
 "nbformat": 4,
 "nbformat_minor": 5
}
