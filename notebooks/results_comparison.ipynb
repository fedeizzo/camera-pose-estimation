{
 "cells": [
  {
   "cell_type": "code",
   "execution_count": 79,
   "id": "33b75cbf-5d52-41c4-acfe-d25b64352feb",
   "metadata": {},
   "outputs": [],
   "source": [
    "import pandas as pd\n",
    "import numpy as np\n",
    "import matplotlib.pyplot as plt"
   ]
  },
  {
   "cell_type": "code",
   "execution_count": 102,
   "id": "52f012e7-3ed7-4871-b015-52a7ef4ed23c",
   "metadata": {},
   "outputs": [],
   "source": [
    "df = pd.read_csv('../net_weights/metrics.csv')\n",
    "runs = [\"resnet152\", \"resnet152_l1loss\", \"resnet152_mse\", \"resnet152_weighted_custom\"]\n",
    "colors = ['red', 'blue', 'green', 'orange']"
   ]
  },
  {
   "cell_type": "code",
   "execution_count": 81,
   "id": "9676a517-fc91-4e5c-9bd8-db7d12eeef9f",
   "metadata": {},
   "outputs": [
    {
     "data": {
      "text/plain": [
       "Index(['Unnamed: 0', 'idx', 'step', 'value', 'epoch', 'time', 'run',\n",
       "       'run.dataloader.batch_size', 'run.dataloader.num_workers',\n",
       "       'run.environment.epochs', 'run.environment.experiment_name',\n",
       "       'run.environment.run_name', 'run.environment.seed', 'run.loss.type',\n",
       "       'run.loss.weights', 'run.model.name', 'run.model.outputs',\n",
       "       'run.optimizer.lr', 'run.optimizer.momentum', 'run.optimizer.name',\n",
       "       'run.paths.aim_dir', 'run.paths.images', 'run.paths.net_weights_dir',\n",
       "       'run.paths.test_dataset', 'run.paths.train_dataset',\n",
       "       'run.paths.validation_dataset', 'run.scheduler.gamma',\n",
       "       'run.scheduler.name', 'run.scheduler.step_size', 'metric',\n",
       "       'context.subset', 'context'],\n",
       "      dtype='object')"
      ]
     },
     "execution_count": 81,
     "metadata": {},
     "output_type": "execute_result"
    }
   ],
   "source": [
    "df.columns"
   ]
  },
  {
   "cell_type": "code",
   "execution_count": 82,
   "id": "48f6641f-11af-4fba-b7d7-ca34bdd95379",
   "metadata": {},
   "outputs": [],
   "source": [
    "df = df[df.run.str.contains(\"resnet152\")]\n",
    "df = df[\n",
    "    (df.run == \"resnet152\")\n",
    "    | (df.run == \"resnet152_l1loss\")\n",
    "    | (df.run == \"resnet152_mse\")\n",
    "    | (df.run == \"resnet152_weighted_custom\")\n",
    "]\n",
    "df = df[['step', 'run', 'value', 'context.subset']]"
   ]
  },
  {
   "cell_type": "code",
   "execution_count": 103,
   "id": "9e12e737-bbed-4170-891d-81c1d189ab2d",
   "metadata": {},
   "outputs": [],
   "source": [
    "values = {}\n",
    "\n",
    "for run in runs:\n",
    "    values[run] = {}\n",
    "    for phase in ['train', 'validation']:\n",
    "        v = df[(df.run == run) & (df['context.subset'] == phase)].value.values\n",
    "        if np.isnan(v).any() or len(v) == 0:\n",
    "            values[run][phase] = None\n",
    "        else:\n",
    "            values[run][phase] = v"
   ]
  },
  {
   "cell_type": "code",
   "execution_count": 132,
   "id": "bb56d76a-931f-46dc-9b05-4f6bf928bb4f",
   "metadata": {},
   "outputs": [
    {
     "data": {
      "image/png": "[encoded data removed]",
      "text/plain": [
       "<Figure size 432x288 with 1 Axes>"
      ]
     },
     "metadata": {
      "needs_background": "light"
     },
     "output_type": "display_data"
    }
   ],
   "source": [
    "fig, ax = plt.subplots()\n",
    "for color, (k, v) in zip(colors, values.items()):\n",
    "    for phase in ['train', 'validation']:\n",
    "        if v[phase] is not None:\n",
    "            plt.plot(\n",
    "                np.arange(len(v[phase])),\n",
    "                v[phase],\n",
    "                c=color,\n",
    "                linestyle='dashed' if phase == 'validation' else 'solid',\n",
    "                label=f\"{k}-{phase}\"\n",
    "            )\n",
    "ax.set_ylabel(\"Loss value\")\n",
    "ax.set_xlabel(\"Epoch\")\n",
    "ax.legend()\n",
    "fig.suptitle(\"PoseNet losses\")\n",
    "fig.savefig(\"../net_weights/posenet_losses.png\", dpi=300)\n",
    "plt.show()"
   ]
  },
  {
   "cell_type": "code",
   "execution_count": null,
   "id": "7ade95fa-c75f-4e61-920b-3b32182e43e8",
   "metadata": {},
   "outputs": [],
   "source": []
  }
 ],
 "metadata": {
  "kernelspec": {
   "display_name": "Python 3 (ipykernel)",
   "language": "python",
   "name": "python3"
  },
  "language_info": {
   "codemirror_mode": {
    "name": "ipython",
    "version": 3
   },
   "file_extension": ".py",
   "mimetype": "text/x-python",
   "name": "python",
   "nbconvert_exporter": "python",
   "pygments_lexer": "ipython3",
   "version": "3.9.6"
  }
 },
 "nbformat": 4,
 "nbformat_minor": 5
}
